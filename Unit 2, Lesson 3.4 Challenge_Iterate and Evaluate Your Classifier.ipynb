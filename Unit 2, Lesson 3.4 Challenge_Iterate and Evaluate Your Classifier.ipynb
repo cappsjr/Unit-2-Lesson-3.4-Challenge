{
 "cells": [
  {
   "cell_type": "code",
   "execution_count": 389,
   "metadata": {
    "collapsed": true
   },
   "outputs": [],
   "source": [
    "%matplotlib inline\n",
    "import numpy as np\n",
    "import pandas as pd\n",
    "import scipy\n",
    "import sklearn\n",
    "import matplotlib.pyplot as plt\n",
    "import seaborn as sns"
   ]
  },
  {
   "cell_type": "code",
   "execution_count": 390,
   "metadata": {
    "collapsed": true
   },
   "outputs": [],
   "source": [
    "data_path = ('/Users/cappsjr/Downloads/sentiment labelled sentences/amazon_cells_labelled.txt')\n",
    "\n",
    "amazon_cells = pd.read_csv(data_path, delimiter = '\\t', header = None)\n",
    "amazon_cells.columns = ['Message', 'Sentiment']"
   ]
  },
  {
   "cell_type": "code",
   "execution_count": 391,
   "metadata": {},
   "outputs": [
    {
     "data": {
      "text/plain": [
       "0    So there is no way for me to plug it in here i...\n",
       "1                          Good case, Excellent value.\n",
       "2                               Great for the jawbone.\n",
       "3    Tied to charger for conversations lasting more...\n",
       "4                                    The mic is great.\n",
       "Name: Message, dtype: object"
      ]
     },
     "execution_count": 391,
     "metadata": {},
     "output_type": "execute_result"
    }
   ],
   "source": [
    "amazon_cells[\"Message\"].head()"
   ]
  },
  {
   "cell_type": "markdown",
   "metadata": {},
   "source": [
    "# Baseline Performance"
   ]
  },
  {
   "cell_type": "code",
   "execution_count": 392,
   "metadata": {},
   "outputs": [
    {
     "name": "stdout",
     "output_type": "stream",
     "text": [
      "50.0 %\n"
     ]
    }
   ],
   "source": [
    "print(len(amazon_cells[amazon_cells[\"Sentiment\"]==1]) / len(amazon_cells) * 100, '%')"
   ]
  },
  {
   "cell_type": "markdown",
   "metadata": {},
   "source": [
    "In this particular case, there is no class imbalance.  There are equal numbers of positive reviews and negative reviews.  Therefore, if the classifiers accurately predict the category of more than 50.0% of the reviews, they will be more successful than the baseline performance."
   ]
  },
  {
   "cell_type": "markdown",
   "metadata": {},
   "source": [
    "# First Iteration"
   ]
  },
  {
   "cell_type": "code",
   "execution_count": 393,
   "metadata": {
    "collapsed": true
   },
   "outputs": [],
   "source": [
    "keywords = ['good', 'great', 'excellent', 'satisfied','impressed', 'happy', 'love', 'loved', 'like', \n",
    "            'liked', 'nice', 'pleased', 'amazing', 'awesome', 'excited', 'best', 'cool','fun', 'rocks']\n",
    "\n",
    "for key in keywords:\n",
    "    amazon_cells[str(key)] = amazon_cells.Message.str.contains(\n",
    "        ' ' + str(key) + ' ',\n",
    "        case=False\n",
    "    )"
   ]
  },
  {
   "cell_type": "code",
   "execution_count": 394,
   "metadata": {
    "collapsed": true
   },
   "outputs": [],
   "source": [
    "amazon_cells['Sentiment'] = (amazon_cells['Sentiment'] == 1)"
   ]
  },
  {
   "cell_type": "code",
   "execution_count": 395,
   "metadata": {},
   "outputs": [],
   "source": [
    "data = amazon_cells[keywords]\n",
    "target = amazon_cells['Sentiment']\n",
    "\n",
    "from sklearn.naive_bayes import BernoulliNB\n",
    "\n",
    "bnb = BernoulliNB()\n",
    "\n",
    "bnb.fit(data, target)\n",
    "\n",
    "y_pred = bnb.predict(data)\n"
   ]
  },
  {
   "cell_type": "code",
   "execution_count": 396,
   "metadata": {},
   "outputs": [
    {
     "data": {
      "text/plain": [
       "<matplotlib.axes._subplots.AxesSubplot at 0x121c39eb8>"
      ]
     },
     "execution_count": 396,
     "metadata": {},
     "output_type": "execute_result"
    },
    {
     "data": {
      "image/png": "[encoded data removed]",
      "text/plain": [
       "<matplotlib.figure.Figure at 0x121c39550>"
      ]
     },
     "metadata": {},
     "output_type": "display_data"
    }
   ],
   "source": [
    "sns.heatmap(amazon_cells.corr())"
   ]
  },
  {
   "cell_type": "markdown",
   "metadata": {},
   "source": [
    "# Success Rate: 1st Iteration"
   ]
  },
  {
   "cell_type": "code",
   "execution_count": 397,
   "metadata": {},
   "outputs": [
    {
     "name": "stdout",
     "output_type": "stream",
     "text": [
      "Number of mislabeled points out of a total 1000 points : 370\n"
     ]
    }
   ],
   "source": [
    "print(\"Number of mislabeled points out of a total {} points : {}\".format(\n",
    "    data.shape[0],\n",
    "    (target != y_pred).sum()\n",
    "))"
   ]
  },
  {
   "cell_type": "code",
   "execution_count": 398,
   "metadata": {},
   "outputs": [
    {
     "name": "stdout",
     "output_type": "stream",
     "text": [
      "Percent of mislabeled points out of a total 1000 points : 37.0 %\n"
     ]
    }
   ],
   "source": [
    "print(\"Percent of mislabeled points out of a total {} points : {}\".format(\n",
    "    data.shape[0],\n",
    "    (target != y_pred).sum() / len(data) * 100\n",
    "), '%')"
   ]
  },
  {
   "cell_type": "markdown",
   "metadata": {},
   "source": [
    "# Confusion Matrix: 1st Iteration"
   ]
  },
  {
   "cell_type": "code",
   "execution_count": 353,
   "metadata": {},
   "outputs": [
    {
     "data": {
      "text/plain": [
       "array([[472,  28],\n",
       "       [342, 158]])"
      ]
     },
     "execution_count": 353,
     "metadata": {},
     "output_type": "execute_result"
    }
   ],
   "source": [
    "from sklearn.metrics import confusion_matrix\n",
    "confusion_matrix(target, y_pred)"
   ]
  },
  {
   "cell_type": "markdown",
   "metadata": {},
   "source": [
    "False Positives: 28 \n",
    "\n",
    "False Negatives: 342\n",
    "\n",
    "Sensitivity: 158\n",
    "\n",
    "Specificity: 472"
   ]
  },
  {
   "cell_type": "markdown",
   "metadata": {},
   "source": [
    "# Test with Holdout Group"
   ]
  },
  {
   "cell_type": "code",
   "execution_count": 432,
   "metadata": {
    "collapsed": true
   },
   "outputs": [],
   "source": [
    "from sklearn.model_selection import train_test_split\n",
    "\n",
    "train, test = train_test_split(amazon_cells, test_size = 0.2)"
   ]
  },
  {
   "cell_type": "code",
   "execution_count": 433,
   "metadata": {},
   "outputs": [],
   "source": [
    "data_train = train[keywords]\n",
    "target_train = train['Sentiment']\n",
    "\n",
    "from sklearn.naive_bayes import BernoulliNB\n",
    "bnb = BernoulliNB()\n",
    "y_pred = bnb.fit(data_train, target_train).predict(data_train)"
   ]
  },
  {
   "cell_type": "code",
   "execution_count": 434,
   "metadata": {},
   "outputs": [
    {
     "name": "stdout",
     "output_type": "stream",
     "text": [
      "Number of MISLABELED points out of a total 800 points : 298\n",
      "Percent of INCORRECTLY labeled points out of a total 800 points : 37.25 %\n"
     ]
    }
   ],
   "source": [
    "print(\"Number of MISLABELED points out of a total {} points : {}\".format(\n",
    "    data_train.shape[0],\n",
    "    (target_train != y_pred).sum()\n",
    "))\n",
    "\n",
    "print(\"Percent of INCORRECTLY labeled points out of a total {} points : {}\".format(\n",
    "    data_train.shape[0],\n",
    "    (target_train != y_pred).sum() / len(data_train) * 100\n",
    "), '%')"
   ]
  },
  {
   "cell_type": "code",
   "execution_count": 435,
   "metadata": {
    "collapsed": true
   },
   "outputs": [],
   "source": [
    "data_test = test[keywords]\n",
    "target_test = test['Sentiment']\n",
    "\n",
    "from sklearn.naive_bayes import BernoulliNB\n",
    "bnb = BernoulliNB()\n",
    "y_pred = bnb.fit(data_test, target_test).predict(data_test)"
   ]
  },
  {
   "cell_type": "code",
   "execution_count": 436,
   "metadata": {},
   "outputs": [
    {
     "name": "stdout",
     "output_type": "stream",
     "text": [
      "Number of MISLABELED points out of a total 200 points : 70\n",
      "Percent of INCORRECTLY labeled points out of a total 200 points : 35.0 %\n"
     ]
    }
   ],
   "source": [
    "print(\"Number of MISLABELED points out of a total {} points : {}\".format(\n",
    "    data_test.shape[0],\n",
    "    (target_test != y_pred).sum()\n",
    "))\n",
    "\n",
    "print(\"Percent of INCORRECTLY labeled points out of a total {} points : {}\".format(\n",
    "    data_test.shape[0],\n",
    "    (target_test != y_pred).sum() / len(data_test) * 100\n",
    "), '%')"
   ]
  },
  {
   "cell_type": "markdown",
   "metadata": {},
   "source": [
    "# Second Iteration"
   ]
  },
  {
   "cell_type": "code",
   "execution_count": 354,
   "metadata": {
    "collapsed": true
   },
   "outputs": [],
   "source": [
    "amazon_cells1 = pd.read_csv(data_path, delimiter = '\\t', header = None)\n",
    "amazon_cells1.columns = ['Message', 'Sentiment']\n",
    "\n",
    "keywords_1 = ['good', 'great', 'excellent', 'satisfied','impressed', 'happy', 'love','loved', 'like', \n",
    "              'liked', 'nice', 'pleased', 'awesome', 'excited', 'best', 'cool','fun', 'rocks', \n",
    "              'fantastic', 'works', 'incredible']\n",
    "\n",
    "for key in keywords_1:\n",
    "    amazon_cells1[str(key)] = amazon_cells1.Message.str.contains(\n",
    "        ' ' + str(key) + ' ',\n",
    "        case=False\n",
    "    )"
   ]
  },
  {
   "cell_type": "code",
   "execution_count": 355,
   "metadata": {},
   "outputs": [],
   "source": [
    "data_1 = amazon_cells1[keywords_1]\n",
    "target_1 = amazon_cells1['Sentiment']\n",
    "\n",
    "from sklearn.naive_bayes import BernoulliNB\n",
    "\n",
    "bnb = BernoulliNB()\n",
    "\n",
    "bnb.fit(data_1, target_1)\n",
    "\n",
    "y_pred_1 = bnb.predict(data_1)\n"
   ]
  },
  {
   "cell_type": "code",
   "execution_count": 356,
   "metadata": {},
   "outputs": [
    {
     "data": {
      "text/plain": [
       "<matplotlib.axes._subplots.AxesSubplot at 0x1211ffd68>"
      ]
     },
     "execution_count": 356,
     "metadata": {},
     "output_type": "execute_result"
    },
    {
     "data": {
      "image/png": "[encoded data removed]",
      "text/plain": [
       "<matplotlib.figure.Figure at 0x121083320>"
      ]
     },
     "metadata": {},
     "output_type": "display_data"
    }
   ],
   "source": [
    "sns.heatmap(amazon_cells1.corr())"
   ]
  },
  {
   "cell_type": "markdown",
   "metadata": {},
   "source": [
    "# Success Rate: 2nd Iteration"
   ]
  },
  {
   "cell_type": "code",
   "execution_count": 357,
   "metadata": {},
   "outputs": [
    {
     "name": "stdout",
     "output_type": "stream",
     "text": [
      "Number of mislabeled points out of a total 1000 points : 347\n"
     ]
    }
   ],
   "source": [
    "print(\"Number of mislabeled points out of a total {} points : {}\".format(\n",
    "    data_1.shape[0],\n",
    "    (target_1 != y_pred_1).sum()\n",
    "))"
   ]
  },
  {
   "cell_type": "code",
   "execution_count": 358,
   "metadata": {},
   "outputs": [
    {
     "name": "stdout",
     "output_type": "stream",
     "text": [
      "Number of mislabeled points out of a total 1000 points : 34.699999999999996 %\n"
     ]
    }
   ],
   "source": [
    "print(\"Number of mislabeled points out of a total {} points : {}\".format(\n",
    "    data_1.shape[0],\n",
    "    (target_1 != y_pred_1).sum() / len(amazon_cells1) * 100\n",
    "), '%')"
   ]
  },
  {
   "cell_type": "markdown",
   "metadata": {},
   "source": [
    "# Confusion Matrix: 2nd Iteration"
   ]
  },
  {
   "cell_type": "code",
   "execution_count": 359,
   "metadata": {},
   "outputs": [
    {
     "data": {
      "text/plain": [
       "array([[472,  28],\n",
       "       [319, 181]])"
      ]
     },
     "execution_count": 359,
     "metadata": {},
     "output_type": "execute_result"
    }
   ],
   "source": [
    "from sklearn.metrics import confusion_matrix\n",
    "confusion_matrix(target_1, y_pred_1)"
   ]
  },
  {
   "cell_type": "markdown",
   "metadata": {},
   "source": [
    "False Positives: 28\n",
    "\n",
    "False Negatives: 319\n",
    "\n",
    "Sensitivity: 181\n",
    "\n",
    "Specificity: 472"
   ]
  },
  {
   "cell_type": "markdown",
   "metadata": {},
   "source": [
    "# Holdover Group Test: 2nd Iteration"
   ]
  },
  {
   "cell_type": "code",
   "execution_count": 424,
   "metadata": {
    "collapsed": true
   },
   "outputs": [],
   "source": [
    "train1, test1 = train_test_split(amazon_cells1, test_size = 0.2)"
   ]
  },
  {
   "cell_type": "code",
   "execution_count": 429,
   "metadata": {},
   "outputs": [],
   "source": [
    "data_train1 = train1[keywords_1]\n",
    "target_train1 = train1['Sentiment']\n",
    "\n",
    "from sklearn.naive_bayes import BernoulliNB\n",
    "bnb = BernoulliNB()\n",
    "y_pred_1 = bnb.fit(data_train1, target_train1).predict(data_train1)"
   ]
  },
  {
   "cell_type": "code",
   "execution_count": 431,
   "metadata": {},
   "outputs": [
    {
     "name": "stdout",
     "output_type": "stream",
     "text": [
      "Number of MISLABELED points out of a total 800 points : 283\n",
      "Percent of INCORRECTLY labeled points out of a total 800 points : 35.375 %\n"
     ]
    }
   ],
   "source": [
    "print(\"Number of MISLABELED points out of a total {} points : {}\".format(\n",
    "    data_train1.shape[0],\n",
    "    (target_train1 != y_pred_1).sum()\n",
    "))\n",
    "\n",
    "print(\"Percent of INCORRECTLY labeled points out of a total {} points : {}\".format(\n",
    "    data_train1.shape[0],\n",
    "    (target_train1 != y_pred_1).sum() / len(data_train1) * 100\n",
    "), '%')"
   ]
  },
  {
   "cell_type": "code",
   "execution_count": 437,
   "metadata": {
    "collapsed": true
   },
   "outputs": [],
   "source": [
    "data_test1 = test1[keywords_1]\n",
    "target_test1 = test1['Sentiment']\n",
    "\n",
    "from sklearn.naive_bayes import BernoulliNB\n",
    "bnb = BernoulliNB()\n",
    "y_pred_1 = bnb.fit(data_test1, target_test1).predict(data_test1)"
   ]
  },
  {
   "cell_type": "code",
   "execution_count": 438,
   "metadata": {},
   "outputs": [
    {
     "name": "stdout",
     "output_type": "stream",
     "text": [
      "Number of MISLABELED points out of a total 200 points : 64\n",
      "Percent of INCORRECTLY labeled points out of a total 200 points : 32.0 %\n"
     ]
    }
   ],
   "source": [
    "print(\"Number of MISLABELED points out of a total {} points : {}\".format(\n",
    "    data_test1.shape[0],\n",
    "    (target_test1 != y_pred_1).sum()\n",
    "))\n",
    "\n",
    "print(\"Percent of INCORRECTLY labeled points out of a total {} points : {}\".format(\n",
    "    data_test1.shape[0],\n",
    "    (target_test1 != y_pred_1).sum() / len(data_test1) * 100\n",
    "), '%')"
   ]
  },
  {
   "cell_type": "markdown",
   "metadata": {},
   "source": [
    "# Third Iteration"
   ]
  },
  {
   "cell_type": "code",
   "execution_count": 360,
   "metadata": {
    "collapsed": true
   },
   "outputs": [],
   "source": [
    "amazon_cells2 = pd.read_csv(data_path, delimiter = '\\t', header = None)\n",
    "amazon_cells2.columns = ['Message', 'Sentiment']\n",
    " \n",
    "keywords_2 = ['good', 'great', 'excellent', 'satisfied', 'impressed', 'happy', 'love','loved', 'like', \n",
    "              'liked', 'nice', 'pleased', 'awesome', 'excited', 'best', 'cool','fun', 'rocks', \n",
    "              'fantastic', 'works', 'incredible', \n",
    "              'wonderful', 'functions', 'functioning', 'adequate']\n",
    "\n",
    "for key in keywords_2:\n",
    "    amazon_cells2[str(key)] = amazon_cells2.Message.str.contains(\n",
    "        ' ' + str(key) + ' ',\n",
    "        case=False\n",
    "    )"
   ]
  },
  {
   "cell_type": "code",
   "execution_count": 361,
   "metadata": {
    "collapsed": true
   },
   "outputs": [],
   "source": [
    "data_2 = amazon_cells2[keywords_2]\n",
    "target_2 = amazon_cells2['Sentiment']\n",
    "\n",
    "from sklearn.naive_bayes import BernoulliNB\n",
    "\n",
    "bnb = BernoulliNB()\n",
    "\n",
    "bnb.fit(data_2, target_2)\n",
    "\n",
    "y_pred_2 = bnb.predict(data_2)\n"
   ]
  },
  {
   "cell_type": "code",
   "execution_count": 362,
   "metadata": {},
   "outputs": [
    {
     "data": {
      "text/plain": [
       "<matplotlib.axes._subplots.AxesSubplot at 0x11f895128>"
      ]
     },
     "execution_count": 362,
     "metadata": {},
     "output_type": "execute_result"
    },
    {
     "data": {
      "image/png": "[encoded data removed]",
      "text/plain": [
       "<matplotlib.figure.Figure at 0x121083f98>"
      ]
     },
     "metadata": {},
     "output_type": "display_data"
    }
   ],
   "source": [
    "sns.heatmap(amazon_cells2.corr())"
   ]
  },
  {
   "cell_type": "markdown",
   "metadata": {},
   "source": [
    "# Success Rate: 3rd Iteration"
   ]
  },
  {
   "cell_type": "code",
   "execution_count": 363,
   "metadata": {},
   "outputs": [
    {
     "name": "stdout",
     "output_type": "stream",
     "text": [
      "Number of mislabeled points out of a total 1000 points : 347\n"
     ]
    }
   ],
   "source": [
    "print(\"Number of mislabeled points out of a total {} points : {}\".format(\n",
    "    data_2.shape[0],\n",
    "    (target_2 != y_pred_2).sum()\n",
    "))"
   ]
  },
  {
   "cell_type": "code",
   "execution_count": 364,
   "metadata": {},
   "outputs": [
    {
     "name": "stdout",
     "output_type": "stream",
     "text": [
      "Number of mislabeled points out of a total 1000 points : 34.699999999999996 %\n"
     ]
    }
   ],
   "source": [
    "print(\"Number of mislabeled points out of a total {} points : {}\".format(\n",
    "    data_2.shape[0],\n",
    "    (target_2 != y_pred_2).sum() / len(amazon_cells2) * 100\n",
    "), '%')"
   ]
  },
  {
   "cell_type": "markdown",
   "metadata": {},
   "source": [
    "# Confusion Matrix: 3rd Iteration"
   ]
  },
  {
   "cell_type": "code",
   "execution_count": 365,
   "metadata": {},
   "outputs": [
    {
     "data": {
      "text/plain": [
       "array([[472,  28],\n",
       "       [319, 181]])"
      ]
     },
     "execution_count": 365,
     "metadata": {},
     "output_type": "execute_result"
    }
   ],
   "source": [
    "from sklearn.metrics import confusion_matrix\n",
    "confusion_matrix(target_2, y_pred_2)"
   ]
  },
  {
   "cell_type": "markdown",
   "metadata": {},
   "source": [
    "False Positive: 28\n",
    "\n",
    "False Negative: 319\n",
    "\n",
    "Sensitivity: 181\n",
    "\n",
    "Specificity: 472"
   ]
  },
  {
   "cell_type": "markdown",
   "metadata": {},
   "source": [
    "# Holdover Group Test: 3rd Iteration"
   ]
  },
  {
   "cell_type": "code",
   "execution_count": 439,
   "metadata": {
    "collapsed": true
   },
   "outputs": [],
   "source": [
    "train2, test2 = train_test_split(amazon_cells2, test_size = 0.2)"
   ]
  },
  {
   "cell_type": "code",
   "execution_count": 440,
   "metadata": {
    "collapsed": true
   },
   "outputs": [],
   "source": [
    "data_train2 = train2[keywords_2]\n",
    "target_train2 = train2['Sentiment']\n",
    "\n",
    "from sklearn.naive_bayes import BernoulliNB\n",
    "bnb = BernoulliNB()\n",
    "y_pred_2 = bnb.fit(data_train2, target_train2).predict(data_train2)"
   ]
  },
  {
   "cell_type": "code",
   "execution_count": 441,
   "metadata": {},
   "outputs": [
    {
     "name": "stdout",
     "output_type": "stream",
     "text": [
      "Number of MISLABELED points out of a total 800 points : 282\n",
      "Percent of INCORRECTLY labeled points out of a total 800 points : 35.25 %\n"
     ]
    }
   ],
   "source": [
    "print(\"Number of MISLABELED points out of a total {} points : {}\".format(\n",
    "    data_train2.shape[0],\n",
    "    (target_train2 != y_pred_2).sum()\n",
    "))\n",
    "\n",
    "print(\"Percent of INCORRECTLY labeled points out of a total {} points : {}\".format(\n",
    "    data_train2.shape[0],\n",
    "    (target_train2 != y_pred_2).sum() / len(data_train2) * 100\n",
    "), '%')"
   ]
  },
  {
   "cell_type": "code",
   "execution_count": 442,
   "metadata": {
    "collapsed": true
   },
   "outputs": [],
   "source": [
    "data_test2 = test2[keywords_2]\n",
    "target_test2 = test2['Sentiment']\n",
    "\n",
    "from sklearn.naive_bayes import BernoulliNB\n",
    "bnb = BernoulliNB()\n",
    "y_pred_2 = bnb.fit(data_test2, target_test2).predict(data_test2)"
   ]
  },
  {
   "cell_type": "code",
   "execution_count": 443,
   "metadata": {},
   "outputs": [
    {
     "name": "stdout",
     "output_type": "stream",
     "text": [
      "Number of MISLABELED points out of a total 200 points : 61\n",
      "Percent of INCORRECTLY labeled points out of a total 200 points : 30.5 %\n"
     ]
    }
   ],
   "source": [
    "print(\"Number of MISLABELED points out of a total {} points : {}\".format(\n",
    "    data_test2.shape[0],\n",
    "    (target_test2 != y_pred_2).sum()\n",
    "))\n",
    "\n",
    "print(\"Percent of INCORRECTLY labeled points out of a total {} points : {}\".format(\n",
    "    data_test2.shape[0],\n",
    "    (target_test2 != y_pred_2).sum() / len(data_test2) * 100\n",
    "), '%')"
   ]
  },
  {
   "cell_type": "markdown",
   "metadata": {},
   "source": [
    "# Fourth Iteration"
   ]
  },
  {
   "cell_type": "code",
   "execution_count": 366,
   "metadata": {
    "collapsed": true
   },
   "outputs": [],
   "source": [
    "amazon_cells3 = pd.read_csv(data_path, delimiter = '\\t', header = None)\n",
    "amazon_cells3.columns = ['Message', 'Sentiment']\n",
    " \n",
    "keywords_3 = ['good', 'great', 'excellent', 'satisfied', 'impressed', 'happy', 'love','loved', 'like', \n",
    "              'liked', 'nice', 'pleased', 'awesome', 'excited', 'best', 'cool','fun', 'rocks', \n",
    "              'fantastic', 'works', 'incredible', \n",
    "              'fast', 'fastest', 'unbelievable']\n",
    "\n",
    "for key in keywords_3:\n",
    "    amazon_cells3[str(key)] = amazon_cells3.Message.str.contains(\n",
    "        ' ' + str(key) + ' ',\n",
    "        case=False\n",
    "    )"
   ]
  },
  {
   "cell_type": "code",
   "execution_count": 367,
   "metadata": {},
   "outputs": [],
   "source": [
    "data_3 = amazon_cells3[keywords_3]\n",
    "target_3 = amazon_cells3['Sentiment']\n",
    "\n",
    "from sklearn.naive_bayes import BernoulliNB\n",
    "\n",
    "bnb = BernoulliNB()\n",
    "\n",
    "bnb.fit(data_3, target_3)\n",
    "\n",
    "y_pred_3 = bnb.predict(data_3)\n"
   ]
  },
  {
   "cell_type": "code",
   "execution_count": 368,
   "metadata": {},
   "outputs": [
    {
     "data": {
      "text/plain": [
       "<matplotlib.axes._subplots.AxesSubplot at 0x121413588>"
      ]
     },
     "execution_count": 368,
     "metadata": {},
     "output_type": "execute_result"
    },
    {
     "data": {
      "image/png": "[encoded data removed]",
      "text/plain": [
       "<matplotlib.figure.Figure at 0x1214130f0>"
      ]
     },
     "metadata": {},
     "output_type": "display_data"
    }
   ],
   "source": [
    "sns.heatmap(amazon_cells3.corr())"
   ]
  },
  {
   "cell_type": "markdown",
   "metadata": {},
   "source": [
    "# Success Rate: 4th Iteration"
   ]
  },
  {
   "cell_type": "code",
   "execution_count": 369,
   "metadata": {},
   "outputs": [
    {
     "name": "stdout",
     "output_type": "stream",
     "text": [
      "Number of mislabeled points out of a total 1000 points : 345\n"
     ]
    }
   ],
   "source": [
    "print(\"Number of mislabeled points out of a total {} points : {}\".format(\n",
    "    data_3.shape[0],\n",
    "    (target_3 != y_pred_3).sum()\n",
    "))"
   ]
  },
  {
   "cell_type": "code",
   "execution_count": 370,
   "metadata": {},
   "outputs": [
    {
     "name": "stdout",
     "output_type": "stream",
     "text": [
      "Number of mislabeled points out of a total 1000 points : 34.5 %\n"
     ]
    }
   ],
   "source": [
    "print(\"Number of mislabeled points out of a total {} points : {}\".format(\n",
    "    data_3.shape[0],\n",
    "    (target_3 != y_pred_3).sum() / len(amazon_cells3) * 100\n",
    "), '%')"
   ]
  },
  {
   "cell_type": "markdown",
   "metadata": {},
   "source": [
    "# Confusion Matrix: 4th Iteration"
   ]
  },
  {
   "cell_type": "code",
   "execution_count": 371,
   "metadata": {},
   "outputs": [
    {
     "data": {
      "text/plain": [
       "array([[472,  28],\n",
       "       [317, 183]])"
      ]
     },
     "execution_count": 371,
     "metadata": {},
     "output_type": "execute_result"
    }
   ],
   "source": [
    "from sklearn.metrics import confusion_matrix\n",
    "confusion_matrix(target_3, y_pred_3)"
   ]
  },
  {
   "cell_type": "markdown",
   "metadata": {},
   "source": [
    "False Positives: 28\n",
    "\n",
    "False Negatives: 317\n",
    "\n",
    "Sensitivity: 183\n",
    "\n",
    "Specificity: 472"
   ]
  },
  {
   "cell_type": "markdown",
   "metadata": {},
   "source": [
    "# Holdover Group Test: 4th Iteration"
   ]
  },
  {
   "cell_type": "code",
   "execution_count": 444,
   "metadata": {
    "collapsed": true
   },
   "outputs": [],
   "source": [
    "train3, test3 = train_test_split(amazon_cells3, test_size = 0.2)"
   ]
  },
  {
   "cell_type": "code",
   "execution_count": 445,
   "metadata": {
    "collapsed": true
   },
   "outputs": [],
   "source": [
    "data_train3 = train3[keywords_3]\n",
    "target_train3 = train3['Sentiment']\n",
    "\n",
    "from sklearn.naive_bayes import BernoulliNB\n",
    "bnb = BernoulliNB()\n",
    "y_pred_3 = bnb.fit(data_train3, target_train3).predict(data_train3)"
   ]
  },
  {
   "cell_type": "code",
   "execution_count": 446,
   "metadata": {},
   "outputs": [
    {
     "name": "stdout",
     "output_type": "stream",
     "text": [
      "Number of MISLABELED points out of a total 800 points : 277\n",
      "Percent of INCORRECTLY labeled points out of a total 800 points : 34.625 %\n"
     ]
    }
   ],
   "source": [
    "print(\"Number of MISLABELED points out of a total {} points : {}\".format(\n",
    "    data_train3.shape[0],\n",
    "    (target_train3 != y_pred_3).sum()\n",
    "))\n",
    "\n",
    "print(\"Percent of INCORRECTLY labeled points out of a total {} points : {}\".format(\n",
    "    data_train3.shape[0],\n",
    "    (target_train3 != y_pred_3).sum() / len(data_train3) * 100\n",
    "), '%')"
   ]
  },
  {
   "cell_type": "code",
   "execution_count": 447,
   "metadata": {
    "collapsed": true
   },
   "outputs": [],
   "source": [
    "data_test3 = test3[keywords_3]\n",
    "target_test3 = test3['Sentiment']\n",
    "\n",
    "from sklearn.naive_bayes import BernoulliNB\n",
    "bnb = BernoulliNB()\n",
    "y_pred_3 = bnb.fit(data_test3, target_test3).predict(data_test3)"
   ]
  },
  {
   "cell_type": "code",
   "execution_count": 448,
   "metadata": {},
   "outputs": [
    {
     "name": "stdout",
     "output_type": "stream",
     "text": [
      "Number of MISLABELED points out of a total 200 points : 68\n",
      "Percent of INCORRECTLY labeled points out of a total 200 points : 34.0 %\n"
     ]
    }
   ],
   "source": [
    "print(\"Number of MISLABELED points out of a total {} points : {}\".format(\n",
    "    data_test3.shape[0],\n",
    "    (target_test3 != y_pred_3).sum()\n",
    "))\n",
    "\n",
    "print(\"Percent of INCORRECTLY labeled points out of a total {} points : {}\".format(\n",
    "    data_test3.shape[0],\n",
    "    (target_test3 != y_pred_3).sum() / len(data_test3) * 100\n",
    "), '%')"
   ]
  },
  {
   "cell_type": "markdown",
   "metadata": {},
   "source": [
    "# Fifth Iteration"
   ]
  },
  {
   "cell_type": "code",
   "execution_count": 372,
   "metadata": {
    "collapsed": true
   },
   "outputs": [],
   "source": [
    "amazon_cells4 = pd.read_csv(data_path, delimiter = '\\t', header = None)\n",
    "amazon_cells4.columns = ['Message', 'Sentiment']\n",
    " \n",
    "keywords_4 = ['good', 'great', 'excellent', 'satisfied', 'impressed', 'happy', 'love','loved', 'like', \n",
    "              'liked', 'nice', 'pleased', 'awesome', 'excited', 'best', 'cool','fun', 'rocks', \n",
    "              'fantastic', 'works', 'incredible',  \n",
    "              'fast', \n",
    "             'deal', 'bargain', 'steal']\n",
    "\n",
    "for key in keywords_4:\n",
    "    amazon_cells4[str(key)] = amazon_cells4.Message.str.contains(\n",
    "        ' ' + str(key) + ' ',\n",
    "        case=False\n",
    "    )"
   ]
  },
  {
   "cell_type": "code",
   "execution_count": 373,
   "metadata": {},
   "outputs": [],
   "source": [
    "data_4 = amazon_cells4[keywords_4]\n",
    "target_4 = amazon_cells4['Sentiment']\n",
    "\n",
    "from sklearn.naive_bayes import BernoulliNB\n",
    "\n",
    "bnb = BernoulliNB()\n",
    "\n",
    "bnb.fit(data_4, target_4)\n",
    "\n",
    "y_pred_4 = bnb.predict(data_4)\n"
   ]
  },
  {
   "cell_type": "code",
   "execution_count": 374,
   "metadata": {},
   "outputs": [
    {
     "data": {
      "text/plain": [
       "<matplotlib.axes._subplots.AxesSubplot at 0x121661630>"
      ]
     },
     "execution_count": 374,
     "metadata": {},
     "output_type": "execute_result"
    },
    {
     "data": {
      "image/png": "[encoded data removed]",
      "text/plain": [
       "<matplotlib.figure.Figure at 0x1216519b0>"
      ]
     },
     "metadata": {},
     "output_type": "display_data"
    }
   ],
   "source": [
    "sns.heatmap(amazon_cells4.corr())"
   ]
  },
  {
   "cell_type": "markdown",
   "metadata": {},
   "source": [
    "# Success Rate: 5th Iteration"
   ]
  },
  {
   "cell_type": "code",
   "execution_count": 375,
   "metadata": {},
   "outputs": [
    {
     "name": "stdout",
     "output_type": "stream",
     "text": [
      "Number of mislabeled points out of a total 1000 points : 345\n"
     ]
    }
   ],
   "source": [
    "print(\"Number of mislabeled points out of a total {} points : {}\".format(\n",
    "    data_4.shape[0],\n",
    "    (target_4 != y_pred_4).sum()\n",
    "))"
   ]
  },
  {
   "cell_type": "code",
   "execution_count": 376,
   "metadata": {},
   "outputs": [
    {
     "name": "stdout",
     "output_type": "stream",
     "text": [
      "Number of mislabeled points out of a total 1000 points : 34.5 %\n"
     ]
    }
   ],
   "source": [
    "print(\"Number of mislabeled points out of a total {} points : {}\".format(\n",
    "    data_4.shape[0],\n",
    "    (target_4 != y_pred_4).sum() / len(amazon_cells4) * 100\n",
    "), '%')"
   ]
  },
  {
   "cell_type": "markdown",
   "metadata": {},
   "source": [
    "# Confusion Matrix: 5th Iteration"
   ]
  },
  {
   "cell_type": "code",
   "execution_count": 377,
   "metadata": {},
   "outputs": [
    {
     "data": {
      "text/plain": [
       "array([[472,  28],\n",
       "       [317, 183]])"
      ]
     },
     "execution_count": 377,
     "metadata": {},
     "output_type": "execute_result"
    }
   ],
   "source": [
    "from sklearn.metrics import confusion_matrix\n",
    "confusion_matrix(target_4, y_pred_4)"
   ]
  },
  {
   "cell_type": "markdown",
   "metadata": {},
   "source": [
    "False Positives: 28\n",
    "\n",
    "False Negatives: 317\n",
    "\n",
    "Sensitivity: 183\n",
    "\n",
    "Specificity: 472"
   ]
  },
  {
   "cell_type": "markdown",
   "metadata": {},
   "source": [
    "# Holdover Group Test: 5th Iteration"
   ]
  },
  {
   "cell_type": "code",
   "execution_count": 449,
   "metadata": {
    "collapsed": true
   },
   "outputs": [],
   "source": [
    "train4, test4 = train_test_split(amazon_cells4, test_size = 0.2)"
   ]
  },
  {
   "cell_type": "code",
   "execution_count": 450,
   "metadata": {
    "collapsed": true
   },
   "outputs": [],
   "source": [
    "data_train4 = train4[keywords_4]\n",
    "target_train4 = train4['Sentiment']\n",
    "\n",
    "from sklearn.naive_bayes import BernoulliNB\n",
    "bnb = BernoulliNB()\n",
    "y_pred_4 = bnb.fit(data_train4, target_train4).predict(data_train4)"
   ]
  },
  {
   "cell_type": "code",
   "execution_count": 451,
   "metadata": {},
   "outputs": [
    {
     "name": "stdout",
     "output_type": "stream",
     "text": [
      "Number of MISLABELED points out of a total 800 points : 266\n",
      "Percent of INCORRECTLY labeled points out of a total 800 points : 33.25 %\n"
     ]
    }
   ],
   "source": [
    "print(\"Number of MISLABELED points out of a total {} points : {}\".format(\n",
    "    data_train4.shape[0],\n",
    "    (target_train4 != y_pred_4).sum()\n",
    "))\n",
    "\n",
    "print(\"Percent of INCORRECTLY labeled points out of a total {} points : {}\".format(\n",
    "    data_train4.shape[0],\n",
    "    (target_train4 != y_pred_4).sum() / len(data_train4) * 100\n",
    "), '%')"
   ]
  },
  {
   "cell_type": "code",
   "execution_count": 452,
   "metadata": {
    "collapsed": true
   },
   "outputs": [],
   "source": [
    "data_test4 = test4[keywords_4]\n",
    "target_test4 = test4['Sentiment']\n",
    "\n",
    "from sklearn.naive_bayes import BernoulliNB\n",
    "bnb = BernoulliNB()\n",
    "y_pred_4 = bnb.fit(data_test4, target_test4).predict(data_test4)"
   ]
  },
  {
   "cell_type": "code",
   "execution_count": 453,
   "metadata": {},
   "outputs": [
    {
     "name": "stdout",
     "output_type": "stream",
     "text": [
      "Number of MISLABELED points out of a total 200 points : 75\n",
      "Percent of INCORRECTLY labeled points out of a total 200 points : 37.5 %\n"
     ]
    }
   ],
   "source": [
    "print(\"Number of MISLABELED points out of a total {} points : {}\".format(\n",
    "    data_test4.shape[0],\n",
    "    (target_test4 != y_pred_4).sum()\n",
    "))\n",
    "\n",
    "print(\"Percent of INCORRECTLY labeled points out of a total {} points : {}\".format(\n",
    "    data_test4.shape[0],\n",
    "    (target_test4 != y_pred_4).sum() / len(data_test4) * 100\n",
    "), '%')"
   ]
  }
 ],
 "metadata": {
  "kernelspec": {
   "display_name": "Python 3",
   "language": "python",
   "name": "python3"
  },
  "language_info": {
   "codemirror_mode": {
    "name": "ipython",
    "version": 3
   },
   "file_extension": ".py",
   "mimetype": "text/x-python",
   "name": "python",
   "nbconvert_exporter": "python",
   "pygments_lexer": "ipython3",
   "version": "3.6.1"
  }
 },
 "nbformat": 4,
 "nbformat_minor": 2
}
